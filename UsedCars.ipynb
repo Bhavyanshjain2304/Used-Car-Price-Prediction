{
  "nbformat": 4,
  "nbformat_minor": 0,
  "metadata": {
    "colab": {
      "private_outputs": true,
      "provenance": []
    },
    "kernelspec": {
      "name": "python3",
      "display_name": "Python 3"
    },
    "language_info": {
      "name": "python"
    }
  },
  "cells": [
    {
      "cell_type": "markdown",
      "source": [
        "# Indian Used Car Price Prediction\n",
        "\n",
        "The aim of this project to predict the price of the used cars in indian metro cities by analyzing the car's features such as company, model, variant, fuel type, quality score and many more.\n",
        "\n",
        "**About the Dataset**\n",
        "\n",
        "The \"Indian IT Cities Used Car Dataset 2023\" is a comprehensive collection of data that offers valuable insights into the used car market across major metro cities in India. This dataset provides a wealth of information on a wide range of used car listings, encompassing details such as car models, variants, pricing, fuel types, dealer locations, warranty information, colors, kilometers driven, body styles, transmission types, ownership history, manufacture dates, model years, dealer names, CNG kit availability, and quality scores.\n",
        "\n"
      ],
      "metadata": {
        "id": "AdstbP9DDRF8"
      }
    },
    {
      "cell_type": "code",
      "source": [
        "# Importing the required libraries\n",
        "import pandas as pd\n",
        "import numpy as np\n",
        "import matplotlib.pyplot as plt\n",
        "import seaborn as sns"
      ],
      "metadata": {
        "id": "pNjWjndXgFq-"
      },
      "execution_count": null,
      "outputs": []
    },
    {
      "cell_type": "code",
      "source": [
        "# Loading the dataset\n",
        "df = pd.read_csv('usedCars.csv')"
      ],
      "metadata": {
        "id": "ULw8k_0IgZq7"
      },
      "execution_count": null,
      "outputs": []
    },
    {
      "cell_type": "code",
      "source": [
        "df.head()"
      ],
      "metadata": {
        "id": "Ko_0nsCjgfO7"
      },
      "execution_count": null,
      "outputs": []
    },
    {
      "cell_type": "markdown",
      "source": [
        "**Data Preporcessing Part 1**\n",
        "\n",
        "\n",
        "\n"
      ],
      "metadata": {
        "id": "NN6Vd7eEjVQ6"
      }
    },
    {
      "cell_type": "code",
      "source": [
        "# Shape of the dataset\n",
        "df.shape"
      ],
      "metadata": {
        "id": "7XJG1axRjcZC"
      },
      "execution_count": null,
      "outputs": []
    },
    {
      "cell_type": "code",
      "source": [
        "# Columns in the dataset\n",
        "df.columns"
      ],
      "metadata": {
        "id": "TprPtF25jfLU"
      },
      "execution_count": null,
      "outputs": []
    },
    {
      "cell_type": "code",
      "source": [
        "# Dropping column 'Id', as it is a identifier and not required for analysis\n",
        "df.drop('Id',axis = 1, inplace=True)"
      ],
      "metadata": {
        "id": "0iM_WfhQjjUW"
      },
      "execution_count": null,
      "outputs": []
    },
    {
      "cell_type": "code",
      "source": [
        "# Column Datatypes\n",
        "df.dtypes"
      ],
      "metadata": {
        "id": "zZIX34aPjwTj"
      },
      "execution_count": null,
      "outputs": []
    },
    {
      "cell_type": "code",
      "source": [
        "# Type-casting Price column to float\n",
        "def convert_amount(amount_str):\n",
        "  if 'Lakhs' in amount_str:\n",
        "    return float(amount_str.replace('Lakhs','').replace(',','')) * 100000\n",
        "  else:\n",
        "    return float(amount_str.replace(',',''))\n",
        "df['Price'] = df['Price'].apply(convert_amount)"
      ],
      "metadata": {
        "id": "okzqcTadj3S_"
      },
      "execution_count": null,
      "outputs": []
    },
    {
      "cell_type": "code",
      "source": [
        "# Checking for null values percentage wise\n",
        "df.isnull().sum()/df.shape[0]*100"
      ],
      "metadata": {
        "id": "ALtnRXIqk8un"
      },
      "execution_count": null,
      "outputs": []
    },
    {
      "cell_type": "markdown",
      "source": [
        "Here in the dataset, three columns have missing values - FuelType, TransmissionType and CngKit. I will be removing the CngKit column becuase in majority of the cars don't run on CNG and the CNG cars can be easily identified from the FuelType column. So we will replace the null values with 'No' in CngKit column. In case of the TransmissionType, 67% data is missing, so we can't include this column in our analysis. In case of the FuelType, we will drop the rows with null values."
      ],
      "metadata": {
        "id": "tzmZWdCWm5OL"
      }
    },
    {
      "cell_type": "code",
      "source": [
        "# Dropping CngKit column\n",
        "df.drop('CngKit', axis = 1, inplace=True)"
      ],
      "metadata": {
        "id": "u7R7HRoGm8F_"
      },
      "execution_count": null,
      "outputs": []
    },
    {
      "cell_type": "code",
      "source": [
        "#Dropping TransmissionType column\n",
        "df.drop('TransmissionType', axis = 1, inplace=True)"
      ],
      "metadata": {
        "id": "CiPKm36poCai"
      },
      "execution_count": null,
      "outputs": []
    },
    {
      "cell_type": "code",
      "source": [
        "#Removing null values from FuelType column\n",
        "df['FuelType'].dropna(inplace=True)"
      ],
      "metadata": {
        "id": "JLI1y1m_oH46"
      },
      "execution_count": null,
      "outputs": []
    },
    {
      "cell_type": "markdown",
      "source": [
        "Dropping ManufacturerDate column as it the age of the car and we already have the ModelYear column"
      ],
      "metadata": {
        "id": "_2zRIxL7oUr0"
      }
    },
    {
      "cell_type": "code",
      "source": [
        "df.drop('ManufactureDate', axis=1,inplace=True)"
      ],
      "metadata": {
        "id": "pwv7YopGoWCA"
      },
      "execution_count": null,
      "outputs": []
    },
    {
      "cell_type": "code",
      "source": [
        "df.drop('Variant', axis=1,inplace=True)"
      ],
      "metadata": {
        "id": "Cm7onTURofY1"
      },
      "execution_count": null,
      "outputs": []
    },
    {
      "cell_type": "markdown",
      "source": [
        "Changing the model year column to car age column"
      ],
      "metadata": {
        "id": "1bSVFUqfordx"
      }
    },
    {
      "cell_type": "code",
      "source": [
        "# Taking 2023 as reference year\n",
        "df['ModelYear'] = 2023 - df['ModelYear']\n",
        "df.rename(columns={'ModelYear':'Age'}, inplace=True)"
      ],
      "metadata": {
        "id": "FTJftINBomFN"
      },
      "execution_count": null,
      "outputs": []
    },
    {
      "cell_type": "code",
      "source": [
        "for i in df.columns:\n",
        "  print(i, df[i].nunique())"
      ],
      "metadata": {
        "id": "_k-991ZGpPoS"
      },
      "execution_count": null,
      "outputs": []
    },
    {
      "cell_type": "markdown",
      "source": [
        "Some Descriptive Statistics"
      ],
      "metadata": {
        "id": "N4jXs2whp6Ax"
      }
    },
    {
      "cell_type": "code",
      "source": [
        "df.describe()"
      ],
      "metadata": {
        "id": "YSOxFO0upbLp"
      },
      "execution_count": null,
      "outputs": []
    },
    {
      "cell_type": "code",
      "source": [
        "df.head()"
      ],
      "metadata": {
        "id": "knQW7FSpqB4p"
      },
      "execution_count": null,
      "outputs": []
    },
    {
      "cell_type": "markdown",
      "source": [
        "# Exploratory Data Analysis\n",
        "In the exploratory data analysis, I will be looking at the distribution of data across all the columns, in order to understand the data in a better way. After that I will be looking at the relationship between the target variable and the independent variables."
      ],
      "metadata": {
        "id": "P6bDXSesq8ML"
      }
    },
    {
      "cell_type": "markdown",
      "source": [
        "Car Company\n"
      ],
      "metadata": {
        "id": "G5ZVSgoZrmJj"
      }
    },
    {
      "cell_type": "code",
      "source": [
        "# Number of cars by company\n",
        "sns.countplot(df['Company'],\n",
        "              order = df['Company'].value_counts().index,\n",
        "              palette = 'Set1').set_title('Numbers of the cars by company')"
      ],
      "metadata": {
        "id": "szFzcAnBrtAR"
      },
      "execution_count": null,
      "outputs": []
    },
    {
      "cell_type": "markdown",
      "source": [
        "From this graph, we get know about the distribution of cars in the dataset from different companies.There are total 23 companies in the dataset, out which Maruti Suzuki, Hyundai, Honda, Mahindra and Tata are the top five companies who used cars are for sale. Therefore, we can assume that these company's car are more durable and have a good resale value."
      ],
      "metadata": {
        "id": "6eZoMsS1zOX-"
      }
    },
    {
      "cell_type": "markdown",
      "source": [
        "**Top 10 Car Models**"
      ],
      "metadata": {
        "id": "AKPcoLvGzP9Z"
      }
    },
    {
      "cell_type": "code",
      "source": [
        "#Top 10 cars models by number\n",
        "sns.countplot(df['Model'],\n",
        "              order = df['Model'].value_counts().iloc[:10].index,\n",
        "              palette = 'Set1').set_title('Top 10 cars models')"
      ],
      "metadata": {
        "id": "qWsRoe2StBrV"
      },
      "execution_count": null,
      "outputs": []
    },
    {
      "cell_type": "markdown",
      "source": [
        "Honda City and Swift are the top two car models in the dataset, followed by Baleno, Creata and EcoSport. Therefore, we can assume that these car models are more durable and have a good resale value. Moreover, this graph also shows that Honda City and Swift are more in demand in the used car market."
      ],
      "metadata": {
        "id": "jdA810Olznpb"
      }
    },
    {
      "cell_type": "markdown",
      "source": [
        "**Car Fuel Type**"
      ],
      "metadata": {
        "id": "XVFtaYnnzp1r"
      }
    },
    {
      "cell_type": "code",
      "source": [
        "#Cars count by fuel type\n",
        "sns.countplot(x = \"FuelType\", data = df, palette= \"Set1\").set_title(\"Number of cars by Fuel Type\")"
      ],
      "metadata": {
        "id": "Wirg7rmJzkKN"
      },
      "execution_count": null,
      "outputs": []
    },
    {
      "cell_type": "markdown",
      "source": [
        "Majority of cars for resale have a petrol engine which is more than 650 cars, followed by 350 cars with diesel engine. Very few of the cars have CNG engine and negligible number of cars are hybrid or on LPG. Thereofore, we can assume that petrol and diesel cars are more in demand in the used car market."
      ],
      "metadata": {
        "id": "6v4fLfRU0V-X"
      }
    },
    {
      "cell_type": "markdown",
      "source": [
        "**Top 10 Colors for Cars**"
      ],
      "metadata": {
        "id": "exG4gQXu0gtN"
      }
    },
    {
      "cell_type": "code",
      "source": [
        "sns.countplot(x = 'Colour', data = df, order = df['Colour'].value_counts().iloc[:10].index).set_title(\"Top 10 Car Colours\")\n",
        "plt.xticks(rotation = 90)"
      ],
      "metadata": {
        "id": "ap9W6LqE0l9N"
      },
      "execution_count": null,
      "outputs": []
    },
    {
      "cell_type": "markdown",
      "source": [
        "Although color of car has no impact on the cars performance, but still it plays a major role in the car demand. From the graph, we can see that white color is the most preferred color for the used cars, followed by silver, grey, red and black. Therefore, we can assume that white, silver, grey, red and black color cars are more in demand in the used car market will have a good resale value."
      ],
      "metadata": {
        "id": "Lz_O0AyW1aTt"
      }
    },
    {
      "cell_type": "markdown",
      "source": [
        "**Odometre Reading**"
      ],
      "metadata": {
        "id": "wyIldxjh1bt0"
      }
    },
    {
      "cell_type": "code",
      "source": [
        "#Odometer reading distribution\n",
        "sns.histplot(x = 'Kilometer', data = df , bins=20).set_title(\"Odometre Reading\")"
      ],
      "metadata": {
        "id": "k7fpiHsM1GL7"
      },
      "execution_count": null,
      "outputs": []
    },
    {
      "cell_type": "markdown",
      "source": [
        "This graph shows the distribution of the odometer readings of the cars in the dataset. From the graph, we can see that most of the cars have odometer reading less than 100000 km. To be more particular majority of cars are driven for 30000 km to 50000 km. Thefore, we can assume that cars with odometer reading less than 100000 km are more in demand in the used car market will have a good resale value."
      ],
      "metadata": {
        "id": "GvBu9gpM1-0r"
      }
    },
    {
      "cell_type": "markdown",
      "source": [
        "**Body Style**"
      ],
      "metadata": {
        "id": "cCRSzXvz2AE8"
      }
    },
    {
      "cell_type": "code",
      "source": [
        "#Body style count\n",
        "sns.countplot(x = 'BodyStyle', data = df).set_title(\"Number of cars by Body Style\")\n",
        "plt.xticks(rotation = 90)"
      ],
      "metadata": {
        "id": "ASjCDd3c10Ml"
      },
      "execution_count": null,
      "outputs": []
    },
    {
      "cell_type": "markdown",
      "source": [
        "\n",
        "According to this graph, most of the cars have HatchBack, SUV and Sedan body style, which tells us about the market demand of these body styles. Therefore, we can assume that cars with HatchBack, SUV and Sedan body style are more in demand in the used car market will have a good resale value."
      ],
      "metadata": {
        "id": "g4phAsPv2p26"
      }
    },
    {
      "cell_type": "markdown",
      "source": [
        "**Car Age Distribution**"
      ],
      "metadata": {
        "id": "BnCPcfbP2rdc"
      }
    },
    {
      "cell_type": "code",
      "source": [
        "#Car age distribution\n",
        "sns.histplot(x = 'Age', data =  df , bins = 20).set_title(\"Car age distribution\")"
      ],
      "metadata": {
        "id": "17658SLW2gZA"
      },
      "execution_count": null,
      "outputs": []
    },
    {
      "cell_type": "markdown",
      "source": [
        "Age of the car plays an important role in deciding its resale value. Here, in the dataset cars that age between 5 to 7 years are more in number. Moreover majority of the cars age more than 5 years, which affect their resale value. However, there are still significant number of cars with age less than 5 years, thereofore, I assume they would have higher resale value.\n",
        "\n",
        "In addition to that, we can see than one car has age near 20 years which could be an outlier."
      ],
      "metadata": {
        "id": "ROUp-awQ3HMs"
      }
    },
    {
      "cell_type": "markdown",
      "source": [
        "**Price Distribution**"
      ],
      "metadata": {
        "id": "oBF8HNeS3Ir9"
      }
    },
    {
      "cell_type": "code",
      "source": [
        "#Price distribution\n",
        "sns.histplot(x = 'Price', data = df, bins = 30).set_title(\"Car Price Distribution\")"
      ],
      "metadata": {
        "id": "MBDwc4In28eY"
      },
      "execution_count": null,
      "outputs": []
    },
    {
      "cell_type": "markdown",
      "source": [
        "This graph help us to know about the distribution of the car prices in the dataset. In the dataset, most of the cars have price is between 3 to 9 lakhs, with maximum cars between 3 to 6 lakhs. Therefore, we can assume that cars with price between 3 to 9 lakhs are more in demand in the used car market. Moreover there are some cars with resale price more than 20 lakhs, which could be possible for luxury cars or it could be an outlier."
      ],
      "metadata": {
        "id": "37xTs4fB3qOV"
      }
    },
    {
      "cell_type": "markdown",
      "source": [
        "**Location Based Distribution**"
      ],
      "metadata": {
        "id": "xSj2bJI-3pyG"
      }
    },
    {
      "cell_type": "code",
      "source": [
        "fig, ax = plt.subplots(1,3,figsize = (20,7))\n",
        "\n",
        "# Dealer State\n",
        "sns.countplot(x = 'DealerState', data = df, ax = ax[0]).set_title(\"Dealer State\")\n",
        "ax[0].set_xticklabels(ax[0].get_xticklabels(), rotation = 90)\n",
        "\n",
        "# Dealer City\n",
        "sns.countplot(x = 'City', data = df, ax = ax[1]).set_title(\"Dealer City\")\n",
        "ax[1].set_xticklabels(ax[1].get_xticklabels(), rotation = 90)\n",
        "\n",
        "# Top 10 Dealers\n",
        "sns.countplot(x = 'DealerName', data = df, order = df['DealerName'].value_counts().iloc[:10].index).set_title(\"Top 10 Dealers\")\n",
        "ax[2].set_xticklabels(ax[2].get_xticklabels(), rotation = 90)"
      ],
      "metadata": {
        "id": "msPd6-lF3ypM"
      },
      "execution_count": null,
      "outputs": []
    },
    {
      "cell_type": "markdown",
      "source": [
        "These graphs shows the distribution of cars based on their dealer state, city and Dealer Name. In the dealer state graph, we see that Delhi and Maharashtra have the highest number of used cars for sale followed by Karnataka and Haryana. In the dealer city graph, we see that Delhi has the highest number of cars which is obvious from the the previous graph, however in contrast to the previous graph, Banglore has more used cars for sale than Pune, infact Pune has lower car count than Gurgaon. In the dealer name graph, we see that Car Choice Exclusif, Car&Bike Superstore Pune and Prestige Autoworld Pvt Ltd are moung the top 3 dealers with highest number of used cars for sale."
      ],
      "metadata": {
        "id": "5VYRAxLj45C1"
      }
    },
    {
      "cell_type": "markdown",
      "source": [
        "**Car Owner Type**"
      ],
      "metadata": {
        "id": "x_ZNZ7j_45M3"
      }
    },
    {
      "cell_type": "code",
      "source": [
        "sns.countplot(x = 'Owner', data = df).set_title('Number of cars by Owner Type')"
      ],
      "metadata": {
        "id": "5UXmorlq4yxb"
      },
      "execution_count": null,
      "outputs": []
    },
    {
      "cell_type": "markdown",
      "source": [
        "The car owner type has a huge impact on its resale value. Majority of the cars that are been sold are 1at Owner cars followed by 2nd Owner cars which are significantly less in number as compared to 1st Owner. Moreover, the 3rd and 4th owner cars are very less in number. Therefore, we can assume that 1st Owner cars are more preferred in the used car market and have a good resale value."
      ],
      "metadata": {
        "id": "Qxcb8jmg5Ft0"
      }
    },
    {
      "cell_type": "markdown",
      "source": [
        "**Warranty**"
      ],
      "metadata": {
        "id": "we-wSXRJ5FR6"
      }
    },
    {
      "cell_type": "code",
      "source": [
        "sns.countplot(x = 'Warranty', data = df).set_title('Number of cars by Warranty')"
      ],
      "metadata": {
        "id": "lXpYzpkD5O5d"
      },
      "execution_count": null,
      "outputs": []
    },
    {
      "cell_type": "markdown",
      "source": [
        "This graphs shows the number of used cars for sale that come with a warranty from the dealership company. The warranty plays a major role and customers prefer to purchase a car with warranty, it has been shown in the dataset as well, where we can see than the number cars with warranty is almost twice the number of cars without warranty."
      ],
      "metadata": {
        "id": "_wp9J9sJ5jWI"
      }
    },
    {
      "cell_type": "markdown",
      "source": [
        "**Quality Score Distribution**"
      ],
      "metadata": {
        "id": "tM0TAE2p5jur"
      }
    },
    {
      "cell_type": "code",
      "source": [
        "sns.histplot(x = 'QualityScore', data = df, bins = 10).set_title(\"Quality Score Distribution\")"
      ],
      "metadata": {
        "id": "jJbQXbwc5rNY"
      },
      "execution_count": null,
      "outputs": []
    },
    {
      "cell_type": "markdown",
      "source": [
        "\n",
        "Quality score is an important feature which has a huge impact on the car sales and its preference by the customers. Cars with higher quality scores tend to have a much higher resale value and are more preferred by the customers. In the dataset, most of the cars have a decent quality score between 7-8, which highlights that the cars are thoroughly checked before being sold in the used car market. However, there are some cars with quality score less than 5, which could be due to the fact that they are not in good condition or they are very old."
      ],
      "metadata": {
        "id": "NE_WUL2G5yzp"
      }
    },
    {
      "cell_type": "markdown",
      "source": [
        " **Till now, I have visualized the\n",
        "distribution of the data and got a better understanding of the data. Now, I will be looking at the relationship between the Car Price aans the independent variables.**\n",
        "\n"
      ],
      "metadata": {
        "id": "sRsTxe-O51B-"
      }
    },
    {
      "cell_type": "markdown",
      "source": [
        "**Top 10 Cars Companies by Price**"
      ],
      "metadata": {
        "id": "v6W-MvNV6JWV"
      }
    },
    {
      "cell_type": "code",
      "source": [
        "# Top 10 car companies by price\n",
        "sns.barplot(y = 'Company', x = 'Price', data = df, order = df.groupby('Company')['Price'].mean().sort_values(ascending=False).iloc[:10].index, hue = 'Company', palette= 'Set1').set_title('Top 10 car Companies by price')"
      ],
      "metadata": {
        "id": "KBmpo-QV5w40"
      },
      "execution_count": null,
      "outputs": []
    },
    {
      "cell_type": "markdown",
      "source": [
        "This graphs highlights the top 10 car companies in the dataset with the highest resale value. The MG, Mercedes Benz and BMW are the top 3 car companies with the highest resale value, since these are luxury car companies. The list also includes Volvo. followed by KIA, Jeep and Toyota. Surprisingly Audi has much lower resale price has compared to the other luxury car companies which might be due to other features.\n",
        "\n",
        "Moreover, my prevous hypothesis, about the car companies -Maruti Suzuki, Hyundai, Honda, Mahindra and Tata, was wrong as they are not in the top 10 list. This means that these companies cars are in greater number due to their demand because of low price"
      ],
      "metadata": {
        "id": "Tgwkauw06klf"
      }
    },
    {
      "cell_type": "markdown",
      "source": [
        "**Top 10 Car Models by Price**"
      ],
      "metadata": {
        "id": "ZG-86Kmo6l2z"
      }
    },
    {
      "cell_type": "code",
      "source": [
        "#Top 10 car models by price\n",
        "sns.barplot(y = 'Model', x = 'Price', data = df, order = df.groupby('Model')['Price'].mean().sort_values(ascending=False).iloc[:10].index, hue = 'Model', palette= 'Set1').set_title('Top 10 car Models by price')"
      ],
      "metadata": {
        "id": "LLHLacT46o4v"
      },
      "execution_count": null,
      "outputs": []
    },
    {
      "cell_type": "markdown",
      "source": [
        "This graph shows the relation between the car model and it resale value and we can see that it shows similarity woth the previous graph. The car models - ML Class, Endeavour(2016_2019), CLA class are the top three models with highest resale value, followed by CLA, Fortuner and XUV700. Like the previous graph, the audi model A3 is at the 9th position with a much lower resale value as compared to the other models.\n",
        "\n",
        "In the car model also my hypothesis was wrong as I assummed that Honda City and Swift are the top two car models in the dataset, followed by Baleno, Creata and EcoSport. Therefore, we came to know that these car in higher number due to their high demnad because of low price."
      ],
      "metadata": {
        "id": "bNlW4Li_6vd3"
      }
    },
    {
      "cell_type": "markdown",
      "source": [
        "**Car Fuel Type and Price**"
      ],
      "metadata": {
        "id": "NPjxG6c26xu1"
      }
    },
    {
      "cell_type": "code",
      "source": [
        "fig, ax = plt.subplots(1,2,figsize=(15,5))\n",
        "sns.boxplot(x = 'FuelType', y = 'Price', data = df, ax = ax[0], hue = 'FuelType').set_title('Price by Fuel Type')\n",
        "sns.violinplot(x = 'FuelType', y = 'Price', data = df, ax = ax[1], hue = 'FuelType').set_title('Price by Fuel Type')"
      ],
      "metadata": {
        "id": "iXVRR6F361vR"
      },
      "execution_count": null,
      "outputs": []
    },
    {
      "cell_type": "markdown",
      "source": [
        "\n",
        "The above plots visualizes the relationship between the car fuel type and its resale value. In the boxplot we can see than cars with diesel fuel type have higher resale value than petrol and CNG and LPG. In the violin plot, we can see that the distribution of the price for diesel cars is more concentrated between 10 to 20 lakh as compared to Petrol. From this it is cleared that, customers prefer petrol and diesel car than other fuel type and the diesel cars are more in demand in the used car market."
      ],
      "metadata": {
        "id": "xBi-okR865cM"
      }
    },
    {
      "cell_type": "markdown",
      "source": [
        "**Top 10 Car Colors by Price**"
      ],
      "metadata": {
        "id": "nvK3S6Zt67CG"
      }
    },
    {
      "cell_type": "code",
      "source": [
        "#Top 10 car colors by price\n",
        "sns.barplot(y = 'Colour', x = 'Price', data = df, order = df.groupby('Colour')['Price'].mean().sort_values(ascending=False).iloc[:10].index).set_title('Top 10 car Colors by price')"
      ],
      "metadata": {
        "id": "W9hSum7t68Dr"
      },
      "execution_count": null,
      "outputs": []
    },
    {
      "cell_type": "markdown",
      "source": [
        "The cars with colors like Burgundy, Riviera Red and Dark Blue have higher resale value as compared to other colors. This shows that color of the car does matter and plays a major role in the resale value of the car.\n",
        "\n",
        "Moreover, we also came to know that exotic colors have more price but they are not in demand in the used car market."
      ],
      "metadata": {
        "id": "Vm-fwY6VGX1h"
      }
    },
    {
      "cell_type": "markdown",
      "source": [
        "**Odometer Reading and Price**"
      ],
      "metadata": {
        "id": "KctLs16XGZYS"
      }
    },
    {
      "cell_type": "code",
      "source": [
        "sns.scatterplot(x = 'Kilometer', y = 'Price', data = df).set_title('Odometer Reading and Price')"
      ],
      "metadata": {
        "id": "CYgy02c4GchC"
      },
      "execution_count": null,
      "outputs": []
    },
    {
      "cell_type": "markdown",
      "source": [
        "\n",
        "In the scatter plot we can see than the data is concentrated near the origin, which means that most of the cars have odometer reading less than 100000 km. In addition to that the cars with less odometer reading shows higher resale value and as the odometer reading increases the resale value decreases. Therefore, my hypothesis was correct that cars with odometer reading less than 100000 km are more in demand in the used car market will have a good resale value."
      ],
      "metadata": {
        "id": "IG55_1IvfDFs"
      }
    },
    {
      "cell_type": "markdown",
      "source": [
        "**Body Style and Price**"
      ],
      "metadata": {
        "id": "UUUI9R6NfKXJ"
      }
    },
    {
      "cell_type": "code",
      "source": [
        "sns.barplot(x = 'BodyStyle', y = 'Price', data = df, hue = 'BodyStyle').set_title('Price by Body Style')\n",
        "plt.xticks(rotation = 90)"
      ],
      "metadata": {
        "id": "YIGZz_--dJQO"
      },
      "execution_count": null,
      "outputs": []
    },
    {
      "cell_type": "markdown",
      "source": [
        "MPV, SUV and Sedan are the top 3 car body styles with the highest resale value. Therefore, we can assume that these body styles are more preferred in the used car market and have a good resale value. This also shows that my assumption was correct however, the Hatchback body style cars despite being in majority have lower resale value."
      ],
      "metadata": {
        "id": "L5yyJ0MSfdcS"
      }
    },
    {
      "cell_type": "markdown",
      "source": [
        "Car Age and Price"
      ],
      "metadata": {
        "id": "MwhT6Rnxfe5R"
      }
    },
    {
      "cell_type": "code",
      "source": [
        "sns.barplot(x = 'Age', y = 'Price', data = df).set_title('Car age and Price')"
      ],
      "metadata": {
        "id": "8oP7Ppj0fXzL"
      },
      "execution_count": null,
      "outputs": []
    },
    {
      "cell_type": "markdown",
      "source": [
        "As we discussed earlier, age is a key determinant for a car's resale value and this graph clearly visulaizes the relation of the age with car price. The cars with age less than a year has then highest price and as the age increases the prices decreases gradually. Therefore, my hypothesis was correct that cars with age less than 5 years have higher resale value."
      ],
      "metadata": {
        "id": "WXTJkj6Cfwjv"
      }
    },
    {
      "cell_type": "markdown",
      "source": [
        "**Location based Price Distribution**"
      ],
      "metadata": {
        "id": "uOxKUvbzfxOs"
      }
    },
    {
      "cell_type": "code",
      "source": [
        "fig, ax = plt.subplots(1,3,figsize=(20,7))\n",
        "\n",
        "#Dealer State\n",
        "sns.violinplot(x = 'DealerState', y = 'Price', data = df, ax = ax[0], hue = 'DealerState').set_title('Dealer States')\n",
        "ax[0].set_xticklabels(ax[0].get_xticklabels(), rotation = 90)\n",
        "\n",
        "#City\n",
        "sns.violinplot(x = 'City',y = 'Price', data = df, ax = ax[1], hue = 'City').set_title('City')\n",
        "ax[1].set_xticklabels(ax[1].get_xticklabels(), rotation = 90)\n",
        "\n",
        "#top 10 dealers\n",
        "sns.violinplot(x = 'DealerName',y = 'Price', data = df, order = df['DealerName'].value_counts().iloc[:10].index, ax = ax[2], hue = 'DealerName').set_title('Top 10 Dealers')\n",
        "ax[2].set_xticklabels(ax[2].get_xticklabels(), rotation = 90)"
      ],
      "metadata": {
        "id": "G3I8VQRFfrmR"
      },
      "execution_count": null,
      "outputs": []
    },
    {
      "cell_type": "markdown",
      "source": [
        "\n",
        "In the above graph we can see the price distribution based on the state, city and the dealer name. In the state graph, we can see that the cars in Rajastan have the highest price followed by Delhi. Moreover, there are some outliers in the graph which os visible from the violinplot where there is strong peak incase of Haryana. In the city graph, we can see that the cars in Jaipur have the highest price followed by Mumbai and Delhi. Moreover, there are some outliers in the graph which os visible from the violinplot where there is strong peak incase of Gurgaon. In the dealer name graph, we can see the top 10 dealers along with their price distribution. Here, Car Estate has the highest price followed by Star Auto India and Car Choice. Moreover, there are some outliers in the graph which os visible from the violinplot where there is strong peak incase of Noida Car Ghar."
      ],
      "metadata": {
        "id": "yFj0dLqx8btV"
      }
    },
    {
      "cell_type": "markdown",
      "source": [
        "**Car Owner Type and Price**"
      ],
      "metadata": {
        "id": "TBULPNeO8chI"
      }
    },
    {
      "cell_type": "code",
      "source": [
        "sns.violinplot(x = 'Owner', y = 'Price', data = df, hue = 'Owner').set_title('Price by Owner Type')\n"
      ],
      "metadata": {
        "id": "ZqEHiMx8gB5g"
      },
      "execution_count": null,
      "outputs": []
    },
    {
      "cell_type": "markdown",
      "source": [
        "The graph shows the price distribution with respect to the car owner type. The cars with 1st owner have the highest price which is obvious as they are new cars. However, the 3rd Owner type cars depite being less in number have higher price than 2nd Owner type cars, which is not obvious. Therefore, we can assume that 3rd Owner type cars having higher price could some luxury or vintage cars."
      ],
      "metadata": {
        "id": "2hoZhDaz8prW"
      }
    },
    {
      "cell_type": "markdown",
      "source": [
        "**Warranty and Price**"
      ],
      "metadata": {
        "id": "RUNJ5uYG8pV7"
      }
    },
    {
      "cell_type": "code",
      "source": [
        "sns.violinplot(x = 'Warranty', y = 'Price', data = df, hue = 'Warranty').set_title('Price by Warranty')\n"
      ],
      "metadata": {
        "id": "7_szJpph8lZ8"
      },
      "execution_count": null,
      "outputs": []
    },
    {
      "cell_type": "markdown",
      "source": [
        "\n",
        "Here, we can see some change in the violinplot of the cars with and without warranty. The cars with warranty tends to have slightly higher price than the cars without warranty. Therefore, we can assume that cars with warranty are more preferred in the used car market and have a good resale value."
      ],
      "metadata": {
        "id": "Xpr7GGgA80k0"
      }
    },
    {
      "cell_type": "markdown",
      "source": [
        "**Quality Score and Price**"
      ],
      "metadata": {
        "id": "rxzQOPLV80un"
      }
    },
    {
      "cell_type": "code",
      "source": [
        "sns.scatterplot(x = 'QualityScore', y = 'Price', data = df).set_title('Quality Score and Price')\n"
      ],
      "metadata": {
        "id": "qiniBmf38976"
      },
      "execution_count": null,
      "outputs": []
    },
    {
      "cell_type": "markdown",
      "source": [
        "We can see a very high concentration near the quality score 7 and above having much higher price than the cars with quality score less than 7. Therefore, we can assume that cars with quality score 7 and above are more preferred in the used car market and have a good resale value."
      ],
      "metadata": {
        "id": "XkkxFtAB9CAj"
      }
    },
    {
      "cell_type": "markdown",
      "source": [
        "# Data Preprocessing Part 2"
      ],
      "metadata": {
        "id": "2SOFyMEc9Fl7"
      }
    },
    {
      "cell_type": "markdown",
      "source": [
        "Dropping column car model beacause, it has too many unique values and it will increase the dimensionality of the dataset."
      ],
      "metadata": {
        "id": "hi5GLOpr9MR4"
      }
    },
    {
      "cell_type": "code",
      "source": [
        "df.drop('Model', axis = 1, inplace = True)\n"
      ],
      "metadata": {
        "id": "pLEBncqD9Ppp"
      },
      "execution_count": null,
      "outputs": []
    },
    {
      "cell_type": "markdown",
      "source": [
        "**Label Encoding**"
      ],
      "metadata": {
        "id": "8lgvKwJw-Ioa"
      }
    },
    {
      "cell_type": "code",
      "source": [
        "#columns for label encoding\n",
        "cols = df.select_dtypes(include=['object']).columns\n",
        "\n",
        "from sklearn.preprocessing import LabelEncoder\n",
        "#Label encoding object\n",
        "le = LabelEncoder()\n",
        "\n",
        "#label encoding for object type columns\n",
        "for i in cols:\n",
        "    le.fit(df[i])\n",
        "    df[i] = le.transform(df[i])\n",
        "    print(i, df[i].unique())"
      ],
      "metadata": {
        "id": "IONvLwTn-Chq"
      },
      "execution_count": null,
      "outputs": []
    },
    {
      "cell_type": "markdown",
      "source": [
        "**Outlier Removal**"
      ],
      "metadata": {
        "id": "0_AqlMoB-Sfb"
      }
    },
    {
      "cell_type": "code",
      "source": [
        "#Using IQRS to remove outliers\n",
        "\n",
        "#columns for outlier removal\n",
        "cols = df.select_dtypes(include=['int64','float64']).columns\n",
        "Q1 = df[cols].quantile(0.25)\n",
        "Q3 = df[cols].quantile(0.75)\n",
        "\n",
        "IQR = Q3 - Q1\n",
        "\n",
        "#Removing outliers\n",
        "df = df[~((df[cols] < (Q1 - 1.5 * IQR)) |(df[cols] > (Q3 + 1.5 * IQR))).any(axis=1)]"
      ],
      "metadata": {
        "id": "3-jCvWyH-Vod"
      },
      "execution_count": null,
      "outputs": []
    },
    {
      "cell_type": "markdown",
      "source": [
        "**Correlation Matrix Heatmap**"
      ],
      "metadata": {
        "id": "hwK6L2a8-aI6"
      }
    },
    {
      "cell_type": "code",
      "source": [
        "plt.figure(figsize=(15,10))\n",
        "sns.heatmap(df.corr(), annot=True)"
      ],
      "metadata": {
        "id": "D_MwALwk-Zrl"
      },
      "execution_count": null,
      "outputs": []
    },
    {
      "cell_type": "markdown",
      "source": [
        "**Train-Test Split**"
      ],
      "metadata": {
        "id": "2Xo082CN-i3h"
      }
    },
    {
      "cell_type": "code",
      "source": [
        "from sklearn.model_selection import train_test_split\n",
        "X_train, X_test, y_train, y_test = train_test_split(df.drop('Price',axis=1), df['Price'], test_size=0.2, random_state=42)"
      ],
      "metadata": {
        "id": "1iPRhYoG-pnP"
      },
      "execution_count": null,
      "outputs": []
    },
    {
      "cell_type": "markdown",
      "source": [
        "### **Model Building**\n",
        "\n",
        "I will be using the following regression models:\n",
        "*   Decision Tree Regressor\n",
        "*   Random Forest Regressor\n",
        "*   Ridge Regressor\n",
        "\n",
        "**Decision Tree Regressor**\n",
        "\n",
        "\n"
      ],
      "metadata": {
        "id": "_srA2_QE-tf5"
      }
    },
    {
      "cell_type": "code",
      "source": [
        "from sklearn.tree import DecisionTreeRegressor\n",
        "#Decision Tree Regressor Object\n",
        "dtr = DecisionTreeRegressor()"
      ],
      "metadata": {
        "id": "yN5VpfqJ-tDD"
      },
      "execution_count": null,
      "outputs": []
    },
    {
      "cell_type": "markdown",
      "source": [
        "**Hyperparameter Tuning**"
      ],
      "metadata": {
        "id": "8ScCEnqX-1t5"
      }
    },
    {
      "cell_type": "code",
      "source": [
        "from sklearn.model_selection import GridSearchCV\n",
        "\n",
        "#parameters for grid search\n",
        "para = {\n",
        "    'max_depth' : [2,4,6,8],\n",
        "    'min_samples_leaf' : [2,4,6,8],\n",
        "    'min_samples_split' : [2,4,6,8],\n",
        "    'random_state' : [0,42]\n",
        "}\n",
        "\n",
        "#Grid Search Object\n",
        "grid = GridSearchCV(estimator=dtr, param_grid=para, cv=5, n_jobs=-1, verbose=2)\n",
        "\n",
        "#Fitting the model\n",
        "grid.fit(X_train, y_train)\n",
        "\n",
        "#Best parameters\n",
        "print(grid.best_params_)"
      ],
      "metadata": {
        "id": "bsLbUNxZ_k6C"
      },
      "execution_count": null,
      "outputs": []
    },
    {
      "cell_type": "code",
      "source": [
        "#decision tree regressor with best parameters\n",
        "dtr = DecisionTreeRegressor(max_depth=6, min_samples_leaf=2, min_samples_split=2, random_state=42)\n",
        "\n",
        "#Fitting the model\n",
        "dtr.fit(X_train, y_train)\n",
        "\n",
        "#Training score\n",
        "print(dtr.score(X_train, y_train))"
      ],
      "metadata": {
        "id": "ZXIBPm97_wWV"
      },
      "execution_count": null,
      "outputs": []
    },
    {
      "cell_type": "code",
      "source": [
        "#Prediction\n",
        "dtr_pred = dtr.predict(X_test)"
      ],
      "metadata": {
        "id": "IO8nr_QR_1go"
      },
      "execution_count": null,
      "outputs": []
    },
    {
      "cell_type": "markdown",
      "source": [
        "### **Random Forest Regressor**"
      ],
      "metadata": {
        "id": "B9vi6fGZ_97s"
      }
    },
    {
      "cell_type": "code",
      "source": [
        "from sklearn.ensemble import RandomForestRegressor\n",
        "#Random Forest Regressor Object\n",
        "rfr = RandomForestRegressor()"
      ],
      "metadata": {
        "id": "uAzIkklBABtx"
      },
      "execution_count": null,
      "outputs": []
    },
    {
      "cell_type": "markdown",
      "source": [
        "**Hyperparameter Tuning**"
      ],
      "metadata": {
        "id": "5j-nNmBqAIb4"
      }
    },
    {
      "cell_type": "code",
      "source": [
        "from sklearn.model_selection import GridSearchCV\n",
        "\n",
        "#parameters for grid search\n",
        "para = {\n",
        "    'max_depth' : [2,4,6,8],\n",
        "    'min_samples_leaf' : [2,4,6,8],\n",
        "    'min_samples_split' : [2,4,6,8],\n",
        "    'random_state' : [0,42]\n",
        "}\n",
        "\n",
        "#Grid Search Object\n",
        "grid = GridSearchCV(estimator=rfr, param_grid=para, cv=5, n_jobs=-1, verbose=2)\n",
        "\n",
        "#Fitting the model\n",
        "grid.fit(X_train, y_train)\n",
        "\n",
        "#Best parameters\n",
        "print(grid.best_params_)"
      ],
      "metadata": {
        "id": "zXthCoutALBX"
      },
      "execution_count": null,
      "outputs": []
    },
    {
      "cell_type": "code",
      "source": [
        "#Random Forest Regressor with best parameters\n",
        "rfr = RandomForestRegressor(max_depth=8, min_samples_leaf=2, min_samples_split=2, random_state=0)\n",
        "\n",
        "#Fitting the model\n",
        "rfr.fit(X_train, y_train)\n",
        "\n",
        "#Training score\n",
        "print(rfr.score(X_train, y_train))"
      ],
      "metadata": {
        "id": "DXRJMkO_AOd-"
      },
      "execution_count": null,
      "outputs": []
    },
    {
      "cell_type": "code",
      "source": [
        "#Prediction\n",
        "rfr_pred = rfr.predict(X_test)"
      ],
      "metadata": {
        "id": "w4r2s8ygARKG"
      },
      "execution_count": null,
      "outputs": []
    },
    {
      "cell_type": "markdown",
      "source": [
        "### Model Evaluation\n",
        "**Distribution Plot**"
      ],
      "metadata": {
        "id": "1Q73VItpA7-n"
      }
    },
    {
      "cell_type": "code",
      "source": [
        "fig,ax = plt.subplots(1,2,figsize=(10,5))\n",
        "\n",
        "#decision tree regressor\n",
        "sns.distplot(x = y_test, ax = ax[0], color = 'r', hist = False, label = 'Actual').set_title('Decision Tree Regressor')\n",
        "sns.distplot(x = dtr_pred, ax = ax[0], color = 'b', hist = False, label = 'Predicted')\n",
        "\n",
        "#random forest regressor\n",
        "sns.distplot(x = y_test, ax = ax[1], color = 'r', hist = False, label = 'Actual').set_title('Random Forest Regressor')\n",
        "sns.distplot(x = rfr_pred, ax = ax[1], color = 'b', hist = False, label = 'Predicted')"
      ],
      "metadata": {
        "id": "lBk5ygudBDeh"
      },
      "execution_count": null,
      "outputs": []
    },
    {
      "cell_type": "markdown",
      "source": [
        "**Model Metrics**"
      ],
      "metadata": {
        "id": "9M9np0IsBJsg"
      }
    },
    {
      "cell_type": "code",
      "source": [
        "from sklearn.metrics import mean_squared_error, mean_absolute_error, r2_score\n",
        "\n",
        "#Decision Tree Regressor\n",
        "print('Decision Tree Regressor')\n",
        "print('Mean Squared Error : ', mean_squared_error(y_test, dtr_pred))\n",
        "print('Mean Absolute Error : ', mean_absolute_error(y_test, dtr_pred))\n",
        "print('R2 Score : ', r2_score(y_test, dtr_pred))\n",
        "\n",
        "#Random Forest Regressor\n",
        "print('Random Forest Regressor')\n",
        "print('Mean Squared Error : ', mean_squared_error(y_test, rfr_pred))\n",
        "print('Mean Absolute Error : ', mean_absolute_error(y_test, rfr_pred))\n",
        "print('R2 Score : ', r2_score(y_test, rfr_pred))"
      ],
      "metadata": {
        "id": "Dr9XlkeoBHe0"
      },
      "execution_count": null,
      "outputs": []
    },
    {
      "cell_type": "markdown",
      "source": [
        "### Feature Importance"
      ],
      "metadata": {
        "id": "-SDJ05HLBSGM"
      }
    },
    {
      "cell_type": "code",
      "source": [
        "fig, ax = plt.subplots(1,2,figsize=(15, 5))\n",
        "fig.subplots_adjust(wspace=0.5)\n",
        "\n",
        "#Decision Tree Regressor\n",
        "feature_df = pd.DataFrame({'Features':X_train.columns, 'Importance':dtr.feature_importances_})\n",
        "feature_df.sort_values(by='Importance', ascending=False, inplace=True)\n",
        "sns.barplot(x = 'Importance', y = 'Features', data = feature_df, ax = ax[0]).set_title('Decision Tree Regressor')\n",
        "\n",
        "#Random Forest Regressor\n",
        "feature_df = pd.DataFrame({'Features':X_train.columns, 'Importance':rfr.feature_importances_})\n",
        "feature_df.sort_values(by='Importance', ascending=False, inplace=True)\n",
        "sns.barplot(x = 'Importance', y = 'Features', data = feature_df, ax = ax[1]).set_title('Random Forest Regressor')"
      ],
      "metadata": {
        "id": "X03nQLMpBXzv"
      },
      "execution_count": null,
      "outputs": []
    },
    {
      "cell_type": "markdown",
      "source": [
        "### Conclusion\n",
        "\n",
        "From the exploratory data analysis, I have revealed two major facts about the used car market: which are demand and price. The demand of low price used car is pretty high as compared to the to expensive ones, which highlights the customers attraction towards budget cars. But upon studying the graph I also came to know about some interesting facts about the used car market. Begining with the car companies, companies like- MG, Mercedes Benz, BMW, Volvo and KIA have the highest price but Maruti Suzuki, Hyundai, Honda, Mahindra and Tata car are in higher demand. This highlights that customer prefer to buy new luxury cars instead of used ones.\n",
        "\n",
        "Majority of the cars run either on petro or diesel, with diesel cars having slightly higher price. I also came to know that car is major player in the market. Cars with colours like white, grey, silver and black are in higher demand but exotic colors like burgundy, riviera red, dark blue, black majic have higher price. Coming to the car's odometer reading, most of the cars have reading less than 10,000 km, and cars with lower odometer reading have the higher price.\n",
        "\n",
        "Cars with bodystyle like HatchBack, SUV and Sedan are most preferred by the customers whereas the bodystyle like MPV, SUV and Sedan are the top most expensive ones. Age of the car also play a major role in its resale value. As the car age increases, it resale value decreases. Therefore, cars that age less than 5 years have higher price and prefered more. Car price also changes by location. Delhi, Maharashtra and Rajasthan are the top three states with the highes price and Car Estate, Star Auto India and Car Choice are the top three dealers with the highest price.\n",
        "\n",
        "Customers usually prefer the car with 1st owner type resulting in higher demand as well as higher price. Cars that comes with a warranty provides an assurance to the customer, resulting in a little bit higher price. The last feature i.e. Quality score also dictates the car price, where cars with higher quality score have higher price.\n",
        "\n",
        "Coming to the machine learning models, I have used Decision Tree Regressor and Random Forest Regressor to predict the car price. The Random Forest Regressor model performed better than the Decision Tree Regressor model. Moreover, from the feature importance graph, we can see that the car age, bodystyle and comapny are the key features that affect the car price."
      ],
      "metadata": {
        "id": "83lcFCmjBazx"
      }
    }
  ]
}